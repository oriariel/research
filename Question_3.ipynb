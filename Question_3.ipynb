{
 "cells": [
  {
   "cell_type": "code",
   "execution_count": 2,
   "metadata": {},
   "outputs": [
    {
     "name": "stdout",
     "output_type": "stream",
     "text": [
      "TestResults(failed=0, attempted=5)\n"
     ]
    }
   ],
   "source": [
    "# Question 3#\n",
    "class List(list):\n",
    "    def __int__(self, iter):\n",
    "        super().__init__(i for i in iter)\n",
    "\n",
    "    def __getitem__(self, elements): # iterator [] \n",
    "\n",
    "        \"\"\"\n",
    "        >>> lst = List([[[0, 1, 4], [2, 3, 6]], [[3, 4, 5], [5, 6, 7]]])\n",
    "        >>> print(lst[0])\n",
    "        [[0, 1, 4], [2, 3, 6]]\n",
    "        >>> mylist2 = List([[[1, 2, 3, 33], [4, 5, 6, 66]],[[7, 8, 9, 99], [10, 11, 12, 122]],[[13, 14, 15, 10], [16, 17, 18, 1]]])\n",
    "        >>> print(mylist2[0,1,3])\n",
    "        66\n",
    "        >>> print(mylist2[0])\n",
    "        [[1, 2, 3, 33], [4, 5, 6, 66]]\n",
    "        \"\"\"\n",
    "        mylist = list(self)\n",
    "        if List.typeof(self,elements) == 0:\n",
    "            return list.__getitem__(self, elements) \n",
    "        for i in elements:\n",
    "                mylist = mylist[i]\n",
    "        return mylist\n",
    "    \n",
    "    def typeof(self, element):\n",
    "        if type(element) == int:\n",
    "            return 0\n",
    "        else: \n",
    "            return 1\n",
    "if __name__ == \"__main__\":\n",
    "    import doctest\n",
    "    print(doctest.testmod())"
   ]
  }
 ],
 "metadata": {
  "kernelspec": {
   "display_name": "Python 3.9.13 64-bit (microsoft store)",
   "language": "python",
   "name": "python3"
  },
  "language_info": {
   "codemirror_mode": {
    "name": "ipython",
    "version": 3
   },
   "file_extension": ".py",
   "mimetype": "text/x-python",
   "name": "python",
   "nbconvert_exporter": "python",
   "pygments_lexer": "ipython3",
   "version": "3.9.13"
  },
  "orig_nbformat": 4,
  "vscode": {
   "interpreter": {
    "hash": "87c9c05a3b767b5140a081273f9bb668e3c4502b50065066bf1bfdaea8c47009"
   }
  }
 },
 "nbformat": 4,
 "nbformat_minor": 2
}
