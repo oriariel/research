{
 "cells": [
  {
   "cell_type": "code",
   "execution_count": 37,
   "metadata": {},
   "outputs": [
    {
     "name": "stdout",
     "output_type": "stream",
     "text": [
      "TestResults(failed=0, attempted=6)\n"
     ]
    }
   ],
   "source": [
    "import doctest\n",
    "\n",
    "class bounded_subsets:\n",
    "    '''\n",
    "    >>> for i in bounded_subsets([1,2,3,4],5):\n",
    "    ...     print(i,end=\"\")\n",
    "    [][1][2][2, 1][3][3, 1][4][3, 2][4, 1]\n",
    "    >>> for i in bounded_subsets([1, 2], 2):\n",
    "    ...     print(i, end=\"\")\n",
    "    [][1][2]\n",
    "    >>> for i in bounded_subsets(range(10, 15), 22):\n",
    "    ...     print(i, end=\"\")\n",
    "    [][10][11][12][13][14][11, 10][12, 10]\n",
    "    >>> for i in bounded_subsets([58,59,-10],12):\n",
    "    ...     print(i,end=\"\")\n",
    "    []\n",
    "    >>> for i in bounded_subsets([101,150,130],5):\n",
    "    ...     print(i,end=\"\")\n",
    "    []\n",
    "    '''\n",
    "    def __init__(self, S: list, C: float):\n",
    "        self.S = list(S)\n",
    "        self.C = C\n",
    "        self.S.sort()\n",
    "        self.list_length = len(S)\n",
    "        self.ans = list()\n",
    "        self.check_sum = 0\n",
    "        if S.__contains__(0):\n",
    "            self.ZeroInS = -1\n",
    "        else:\n",
    "            self.ZeroInS = 0\n",
    "\n",
    "    def __iter__(self):\n",
    "        return self\n",
    "\n",
    "    def __next__(self):\n",
    "       \n",
    "        if len(self.ans) != 0:\n",
    "            return self.ans.pop()  \n",
    "\n",
    "        while self.check_sum <= self.C:\n",
    "\n",
    "            if self.sublistSum(self.list_length-1, self.check_sum):\n",
    "                self.check_sum = self.check_sum + 1\n",
    "                return self.ans.pop()\n",
    "\n",
    "            else:\n",
    "                self.check_sum = self.check_sum + 1 \n",
    "\n",
    "        raise StopIteration\n",
    "\n",
    "    def sublistSum(self, indx, sublistSum, ans=[],x = [0]):\n",
    "        '''\n",
    "        >>> bounded_subsets([1,2,3,4,5], 3).sublistSum(4, 3)\n",
    "        -1\n",
    "        '''\n",
    "    \n",
    "        if sublistSum == 0:\n",
    "            if self.ZeroInS == 0:\n",
    "                self.ans.append(ans)\n",
    "            else:  \n",
    "                self.ans.append(ans+x)\n",
    "            return -1  \n",
    "        \n",
    "        elif indx < 0:\n",
    "            return 0 \n",
    "\n",
    "        elif sublistSum < 0:\n",
    "            return 0\n",
    "\n",
    "        else:\n",
    "            take_item = self.sublistSum(indx-1,sublistSum-self.S[indx],ans+[self.S[indx]])\n",
    "\n",
    "            reject_item = self.sublistSum(indx-1,sublistSum,ans)\n",
    "\n",
    "            return take_item or reject_item\n",
    "\n",
    "    \n",
    "if __name__ == '__main__':\n",
    "    doctest.testmod()\n",
    "    print(doctest.testmod())"
   ]
  },
  {
   "cell_type": "code",
   "execution_count": null,
   "metadata": {},
   "outputs": [],
   "source": []
  },
  {
   "cell_type": "code",
   "execution_count": 11,
   "metadata": {},
   "outputs": [
    {
     "name": "stdout",
     "output_type": "stream",
     "text": [
      "False\n"
     ]
    }
   ],
   "source": []
  }
 ],
 "metadata": {
  "kernelspec": {
   "display_name": "Python 3.9.13 64-bit (microsoft store)",
   "language": "python",
   "name": "python3"
  },
  "language_info": {
   "codemirror_mode": {
    "name": "ipython",
    "version": 3
   },
   "file_extension": ".py",
   "mimetype": "text/x-python",
   "name": "python",
   "nbconvert_exporter": "python",
   "pygments_lexer": "ipython3",
   "version": "3.9.13"
  },
  "orig_nbformat": 4,
  "vscode": {
   "interpreter": {
    "hash": "87c9c05a3b767b5140a081273f9bb668e3c4502b50065066bf1bfdaea8c47009"
   }
  }
 },
 "nbformat": 4,
 "nbformat_minor": 2
}
