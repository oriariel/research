{
 "cells": [
  {
   "cell_type": "code",
   "execution_count": 53,
   "metadata": {},
   "outputs": [],
   "source": [
    "import cvxpy\n",
    "import numpy as np\n",
    "import random\n",
    "import time\n",
    "from matplotlib import pyplot as plt\n",
    "\n",
    "def generate_linear(m = np.random.randint(1,1000)):\n",
    "    left_side = np.random.randn(m, m)\n",
    "    right_side = np.random.randn(m)\n",
    "    list = [solving_linear_by_np(left_side,right_side), solving_linear_by_cvxpy(left_side, right_side)]\n",
    "\n",
    "def solving_linear_by_np(left, right):\n",
    "    answer = np.linalg.solve(left, right)\n",
    "    end_time_np = time.time()\n",
    "    return answer\n",
    "\n",
    "def solving_linear_by_cvxpy(left, right):\n",
    "    x = cvxpy.Variable()\n",
    "    pro = cvxpy.Problem(cvxpy.Minimize(cvxpy.sum_squares(left @ x - right)), []) #Problem(object,constraint)\n",
    "    pro.solve()\n",
    "    return x.value\n"
   ]
  },
  {
   "cell_type": "code",
   "execution_count": 54,
   "metadata": {},
   "outputs": [
    {
     "name": "stdout",
     "output_type": "stream",
     "text": [
      " time numpy =[0.004765510559082031]  , time cvxpy = [0.03197979927062988]\n",
      " time numpy =[0.004765510559082031, 0.011008024215698242]  , time cvxpy = [0.03197979927062988, 0.03923845291137695]\n",
      " time numpy =[0.004765510559082031, 0.011008024215698242, 0.0007560253143310547]  , time cvxpy = [0.03197979927062988, 0.03923845291137695, 0.03399777412414551]\n"
     ]
    }
   ],
   "source": [
    "time_numpy = []\n",
    "time_cvxpy = []\n",
    "for i in range(3):\n",
    "    np.random.seed(3)\n",
    "    m = random.randint(1,100)*(2*i+1)\n",
    "    ######################### numpy ###########################\n",
    "    left_side = np.random.randn(m, m)\n",
    "    right_side = np.random.randn(m)   \n",
    "    start_time = time.time()\n",
    "    solution = np.linalg.solve(left_side, right_side)\n",
    "    end_time = time.time()\n",
    "    time_numpy.append(end_time - start_time)\n",
    "    ######################### cvxpy ###########################\n",
    "    start_time_2 = time.time()\n",
    "    x = cvxpy.Variable(m)\n",
    "    objective = cvxpy.Minimize(cvxpy.sum_squares(left_side @ x - right_side))\n",
    "    constraints = []\n",
    "    prob = cvxpy.Problem(objective, constraints)\n",
    "    prob.solve()\n",
    "    end_time_2 = time.time()\n",
    "    time_cvxpy.append(end_time_2 - start_time_2)\n",
    "\n",
    "    print(f' time numpy ={time_numpy}  , time cvxpy = {time_cvxpy}')\n"
   ]
  }
 ],
 "metadata": {
  "kernelspec": {
   "display_name": "Python 3",
   "language": "python",
   "name": "python3"
  },
  "language_info": {
   "codemirror_mode": {
    "name": "ipython",
    "version": 3
   },
   "file_extension": ".py",
   "mimetype": "text/x-python",
   "name": "python",
   "nbconvert_exporter": "python",
   "pygments_lexer": "ipython3",
   "version": "3.9.13"
  },
  "orig_nbformat": 4,
  "vscode": {
   "interpreter": {
    "hash": "87c9c05a3b767b5140a081273f9bb668e3c4502b50065066bf1bfdaea8c47009"
   }
  }
 },
 "nbformat": 4,
 "nbformat_minor": 2
}
