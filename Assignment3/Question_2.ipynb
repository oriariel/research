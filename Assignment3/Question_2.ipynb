{
 "cells": [
  {
   "cell_type": "code",
   "execution_count": 25,
   "metadata": {},
   "outputs": [
    {
     "name": "stdout",
     "output_type": "stream",
     "text": [
      "TestResults(failed=0, attempted=10)\n"
     ]
    }
   ],
   "source": [
    "# Question 2 #\n",
    "def lastcall(f): # outer function \n",
    "  '''\n",
    "  >>> f(2)\n",
    "  4\n",
    "  >>> f(2)\n",
    "  I already told you that the answer is 4!\n",
    "  >>> f(3)\n",
    "  9\n",
    "  >>> f(10)\n",
    "  100\n",
    "  >>> add(10)\n",
    "  20\n",
    "  >>> mul_by_10(12)\n",
    "  120\n",
    "  >>> mul_by_10(12)\n",
    "  I already told you that the answer is 120!\n",
    "  >>> sub_by_10(200)\n",
    "  190\n",
    "  >>> sub_by_10(250)\n",
    "  240\n",
    "  >>> mul_by_10(12)\n",
    "  I already told you that the answer is 120!\n",
    "  '''\n",
    "  list_of_prev_answers = []\n",
    "  def lastcall_inner(*args, **kwargs): # inner function \n",
    "    if list_of_prev_answers.__contains__(f(*args)):\n",
    "\n",
    "        print(\"I already told you that the answer is \" +str(f(*args)) +\"!\")\n",
    "        return\n",
    "    else:\n",
    "        print(f(*args))\n",
    "    list_of_prev_answers.append(f(*args))\n",
    "\n",
    "  return lastcall_inner\n",
    " \n",
    "@lastcall\n",
    "def f( x : int):\n",
    "  return x**2\n",
    "@lastcall\n",
    "def add(y:any):\n",
    "  return y+y\n",
    "@lastcall\n",
    "def mul_by_10(z):\n",
    " return z*10\n",
    "def sub_by_10(q):\n",
    "  return q-10\n",
    "\n",
    "if __name__== \"__main__\":\n",
    "  import doctest\n",
    "  print(doctest.testmod())\n",
    "  #add(1)"
   ]
  }
 ],
 "metadata": {
  "kernelspec": {
   "display_name": "Python 3.9.13 64-bit (microsoft store)",
   "language": "python",
   "name": "python3"
  },
  "language_info": {
   "codemirror_mode": {
    "name": "ipython",
    "version": 3
   },
   "file_extension": ".py",
   "mimetype": "text/x-python",
   "name": "python",
   "nbconvert_exporter": "python",
   "pygments_lexer": "ipython3",
   "version": "3.9.13"
  },
  "orig_nbformat": 4,
  "vscode": {
   "interpreter": {
    "hash": "87c9c05a3b767b5140a081273f9bb668e3c4502b50065066bf1bfdaea8c47009"
   }
  }
 },
 "nbformat": 4,
 "nbformat_minor": 2
}
