{
 "cells": [
  {
   "cell_type": "code",
   "execution_count": 1,
   "metadata": {},
   "outputs": [
    {
     "name": "stdout",
     "output_type": "stream",
     "text": [
      "valid_list:['abc.def@mail.com', 'abc@mail.com', 'abc_def@mail.com', 'abc.def@mail.cc', 'abc.def@mail', 'abc.def@mail.com', 'abc.def@mail']\n",
      "invalid_list:['abc.def@mail-archive.com', 'org', 'abc-@mail.com', 'abc..def@mail.com,', '.abc@mail.com', 'abc#def@mail.com', 'abc.def@mail.c', 'abc.def@mail#archive.com', 'abc.def@mail..com']\n",
      "None\n",
      "TestResults(failed=0, attempted=1)\n"
     ]
    }
   ],
   "source": [
    "# Question 1#\n",
    "import re\n",
    "def checker(text:str):\n",
    "    \"\"\"\n",
    "    >>> checker(\"email_address.txt\")\n",
    "    valid_list:['abc.def@mail.com', 'abc@mail.com', 'abc_def@mail.com', 'abc.def@mail.cc', 'abc.def@mail', 'abc.def@mail.com', 'abc.def@mail']\n",
    "    invalid_list:['abc.def@mail-archive.com', 'org', 'abc-@mail.com', 'abc..def@mail.com,', '.abc@mail.com', 'abc#def@mail.com', 'abc.def@mail.c', 'abc.def@mail#archive.com', 'abc.def@mail..com']\n",
    "    \"\"\"\n",
    "    valid_list = []\n",
    "    invalid_list = []\n",
    "    with open(text, \"r\") as file:\n",
    "        txt = file.read()\n",
    "        sp = txt.split()\n",
    "        for line in sp:\n",
    "            object = re.fullmatch(r\"([A-Za-z0-9]+[._-])*[A-Za-z0-9]+@[a-z]+.[A-Za-z]{2,3}\", line)\n",
    "            if object:\n",
    "                valid_list.append(line)\n",
    "            else:\n",
    "                invalid_list.append(line)\n",
    "    print(\"valid_list:\" + (str(valid_list)))\n",
    "    print(\"invalid_list:\"+ (str(invalid_list)))\n",
    "    \n",
    "\n",
    "print(checker(\"email_address.txt\"))\n",
    "\n",
    "if __name__ == \"__main__\":\n",
    "    import doctest\n",
    "    print(doctest.testmod())"
   ]
  },
  {
   "cell_type": "code",
   "execution_count": 2,
   "metadata": {},
   "outputs": [
    {
     "name": "stdout",
     "output_type": "stream",
     "text": [
      "TestResults(failed=0, attempted=6)\n"
     ]
    }
   ],
   "source": [
    "# Question 2 #\n",
    "def lastcall(f): # outer function \n",
    "  '''\n",
    "  >>> f(2)\n",
    "  4\n",
    "  >>> f(2)\n",
    "  I already told you that the answer is 4!\n",
    "  >>> f(3)\n",
    "  9\n",
    "  >>> f(10)\n",
    "  100\n",
    "  >>> f(10)\n",
    "  I already told you that the answer is 100!\n",
    "  '''\n",
    "  list_of_prev_answers = []\n",
    "  def lastcall_inner(*args, **kwargs): # inner function \n",
    "    if list_of_prev_answers.__contains__(*args):\n",
    "        print(\"I already told you that the answer is \" +str(f(*args)) +\"!\")\n",
    "    else:\n",
    "        print(f(*args))\n",
    "    list_of_prev_answers.append(*args)\n",
    "  return lastcall_inner\n",
    " \n",
    "@lastcall\n",
    "def f( x : int):\n",
    "  return x**2\n",
    "#if __name__== \"__main__\":\n",
    " # import doctest\n",
    " # print(doctest.testmod())\n"
   ]
  }
 ],
 "metadata": {
  "kernelspec": {
   "display_name": "Python 3.9.1 64-bit",
   "language": "python",
   "name": "python3"
  },
  "language_info": {
   "codemirror_mode": {
    "name": "ipython",
    "version": 3
   },
   "file_extension": ".py",
   "mimetype": "text/x-python",
   "name": "python",
   "nbconvert_exporter": "python",
   "pygments_lexer": "ipython3",
   "version": "3.9.1"
  },
  "orig_nbformat": 4,
  "vscode": {
   "interpreter": {
    "hash": "121b3131ca196acf0139a0975d5938c6013ac7f358adb752bb84990df30bad88"
   }
  }
 },
 "nbformat": 4,
 "nbformat_minor": 2
}
